{
 "cells": [
  {
   "cell_type": "markdown",
   "metadata": {},
   "source": [
    "# Trabalho de Ciência de Dados\n",
    "\n",
    "### Grupo: 5    |       Alunos:\n",
    "\n",
    "*   Anne Sanflorian Pretyman\n",
    "*   Hevans Vinícius Pereira\n",
    "*   Leonardo Gonçalves de Moraes\n",
    "*   Renata Sarmet Smiderle Mendes\n"
   ]
  },
  {
   "cell_type": "markdown",
   "metadata": {},
   "source": [
    "# Importação de bibliotecas necessárias"
   ]
  },
  {
   "cell_type": "code",
   "execution_count": 9,
   "metadata": {},
   "outputs": [],
   "source": [
    "# import sys  \n",
    "# !{sys.executable} -m pip install pandas\n",
    "# !{sys.executable} -m pip install seaborn"
   ]
  },
  {
   "cell_type": "code",
   "execution_count": 10,
   "metadata": {
    "colab": {
     "base_uri": "https://localhost:8080/"
    },
    "id": "4g-VsY8pHF8n",
    "outputId": "ddb86d04-97d0-40d1-b2c2-7761b010377d"
   },
   "outputs": [],
   "source": [
    "import pandas as pd\n",
    "import matplotlib.pyplot as plt\n",
    "import numpy as np\n",
    "import seaborn as sns\n",
    "\n",
    "# from google.colab import drive\n",
    "# drive.mount('/content/gdrive')"
   ]
  },
  {
   "cell_type": "markdown",
   "metadata": {},
   "source": [
    "# Obtenção dos dados"
   ]
  },
  {
   "cell_type": "markdown",
   "metadata": {},
   "source": [
    "Os dados foram obtidos (COLOCAR FONTE) ... data da coleta 14/05/2021 ..... **#ToDo: descrever um pouco sobre a coleta do dado**"
   ]
  },
  {
   "cell_type": "code",
   "execution_count": 4,
   "metadata": {
    "id": "uBiCbY1RHSIz"
   },
   "outputs": [],
   "source": [
    "# df = pd.read_csv('/content/gdrive/Shareddrives/Time Ciência de Dados/Projeto/datasets/vacinacao_covid_estabelecimentos_modificado.csv', sep=';', error_bad_lines=False)\n",
    "df = pd.read_csv('datasets/vacinacao_covid_estabelecimentos_modificado.csv', sep=';', error_bad_lines=False)"
   ]
  },
  {
   "cell_type": "code",
   "execution_count": 11,
   "metadata": {
    "colab": {
     "base_uri": "https://localhost:8080/",
     "height": 547
    },
    "id": "LF9UQ6YzRSwg",
    "outputId": "dc1f59ec-7614-4a80-f264-c6439a24ff30"
   },
   "outputs": [
    {
     "data": {
      "text/html": [
       "<div>\n",
       "<style scoped>\n",
       "    .dataframe tbody tr th:only-of-type {\n",
       "        vertical-align: middle;\n",
       "    }\n",
       "\n",
       "    .dataframe tbody tr th {\n",
       "        vertical-align: top;\n",
       "    }\n",
       "\n",
       "    .dataframe thead th {\n",
       "        text-align: right;\n",
       "    }\n",
       "</style>\n",
       "<table border=\"1\" class=\"dataframe\">\n",
       "  <thead>\n",
       "    <tr style=\"text-align: right;\">\n",
       "      <th></th>\n",
       "      <th>paciente_idade</th>\n",
       "      <th>paciente_enumsexobiologico</th>\n",
       "      <th>paciente_racacor_valor</th>\n",
       "      <th>paciente_endereco_coibgemunicipio</th>\n",
       "      <th>paciente_endereco_nmmunicipio</th>\n",
       "      <th>paciente_endereco_uf</th>\n",
       "      <th>estalecimento_nofantasia</th>\n",
       "      <th>estabelecimento_municipio_nome</th>\n",
       "      <th>estabelecimento_uf</th>\n",
       "      <th>vacina_grupoatendimento_nome</th>\n",
       "      <th>vacina_categoria_nome</th>\n",
       "      <th>vacina_fabricante_nome</th>\n",
       "      <th>vacina_dataaplicacao</th>\n",
       "      <th>vacina_descricao_dose</th>\n",
       "      <th>vacina_nome</th>\n",
       "    </tr>\n",
       "  </thead>\n",
       "  <tbody>\n",
       "    <tr>\n",
       "      <th>0</th>\n",
       "      <td>67.0</td>\n",
       "      <td>F</td>\n",
       "      <td>BRANCA</td>\n",
       "      <td>355645.0</td>\n",
       "      <td>VARGEM GRANDE PAULISTA</td>\n",
       "      <td>SP</td>\n",
       "      <td>UBS ROQUE LINO DE CARVALHO</td>\n",
       "      <td>VARGEM GRANDE PAULISTA</td>\n",
       "      <td>SP</td>\n",
       "      <td>Pessoas de 65 a 69 anos</td>\n",
       "      <td>Faixa Etária</td>\n",
       "      <td>ASTRAZENECA/OXFORD</td>\n",
       "      <td>2021-04-20</td>\n",
       "      <td>1ª Dose</td>\n",
       "      <td>Vacina Covid-19 - Covishield</td>\n",
       "    </tr>\n",
       "    <tr>\n",
       "      <th>1</th>\n",
       "      <td>82.0</td>\n",
       "      <td>M</td>\n",
       "      <td>BRANCA</td>\n",
       "      <td>354340.0</td>\n",
       "      <td>RIBEIRAO PRETO</td>\n",
       "      <td>SP</td>\n",
       "      <td>UBS DR WALDEMAR BARNSLEY PESSOA PARQUE RIBEIRAO</td>\n",
       "      <td>RIBEIRAO PRETO</td>\n",
       "      <td>SP</td>\n",
       "      <td>Pessoas de 80 anos ou mais</td>\n",
       "      <td>Faixa Etária</td>\n",
       "      <td>ASTRAZENECA/OXFORD</td>\n",
       "      <td>2021-03-02</td>\n",
       "      <td>1ª Dose</td>\n",
       "      <td>Vacina Covid-19 - Covishield</td>\n",
       "    </tr>\n",
       "    <tr>\n",
       "      <th>2</th>\n",
       "      <td>35.0</td>\n",
       "      <td>F</td>\n",
       "      <td>SEM INFORMACAO</td>\n",
       "      <td>355030.0</td>\n",
       "      <td>SAO PAULO</td>\n",
       "      <td>SP</td>\n",
       "      <td>UBS JOSE DE BARROS MAGALDI</td>\n",
       "      <td>SAO PAULO</td>\n",
       "      <td>SP</td>\n",
       "      <td>Outros</td>\n",
       "      <td>Trabalhadores de Saúde</td>\n",
       "      <td>SINOVAC</td>\n",
       "      <td>2021-01-28</td>\n",
       "      <td>1ª Dose</td>\n",
       "      <td>Covid-19-Coronavac-Sinovac/Butantan</td>\n",
       "    </tr>\n",
       "    <tr>\n",
       "      <th>3</th>\n",
       "      <td>72.0</td>\n",
       "      <td>M</td>\n",
       "      <td>BRANCA</td>\n",
       "      <td>353930.0</td>\n",
       "      <td>PIRASSUNUNGA</td>\n",
       "      <td>SP</td>\n",
       "      <td>USF ANA PAULA FERRARI PIRASSUNUNGA</td>\n",
       "      <td>PIRASSUNUNGA</td>\n",
       "      <td>SP</td>\n",
       "      <td>Pessoas de 70 a 74 anos</td>\n",
       "      <td>Faixa Etária</td>\n",
       "      <td>SINOVAC</td>\n",
       "      <td>2021-04-10</td>\n",
       "      <td>1ª Dose</td>\n",
       "      <td>Covid-19-Coronavac-Sinovac/Butantan</td>\n",
       "    </tr>\n",
       "    <tr>\n",
       "      <th>4</th>\n",
       "      <td>71.0</td>\n",
       "      <td>M</td>\n",
       "      <td>BRANCA</td>\n",
       "      <td>353580.0</td>\n",
       "      <td>PARANAPANEMA</td>\n",
       "      <td>SP</td>\n",
       "      <td>UNIDADE DE SAUDE DA FAMILIA SALVADOR RIBEIRO L...</td>\n",
       "      <td>PARANAPANEMA</td>\n",
       "      <td>SP</td>\n",
       "      <td>Pessoas de 70 a 74 anos</td>\n",
       "      <td>Faixa Etária</td>\n",
       "      <td>SINOVAC</td>\n",
       "      <td>2021-03-24</td>\n",
       "      <td>1ª Dose</td>\n",
       "      <td>Covid-19-Coronavac-Sinovac/Butantan</td>\n",
       "    </tr>\n",
       "  </tbody>\n",
       "</table>\n",
       "</div>"
      ],
      "text/plain": [
       "   paciente_idade paciente_enumsexobiologico paciente_racacor_valor  \\\n",
       "0            67.0                          F                 BRANCA   \n",
       "1            82.0                          M                 BRANCA   \n",
       "2            35.0                          F         SEM INFORMACAO   \n",
       "3            72.0                          M                 BRANCA   \n",
       "4            71.0                          M                 BRANCA   \n",
       "\n",
       "   paciente_endereco_coibgemunicipio paciente_endereco_nmmunicipio  \\\n",
       "0                           355645.0        VARGEM GRANDE PAULISTA   \n",
       "1                           354340.0                RIBEIRAO PRETO   \n",
       "2                           355030.0                     SAO PAULO   \n",
       "3                           353930.0                  PIRASSUNUNGA   \n",
       "4                           353580.0                  PARANAPANEMA   \n",
       "\n",
       "  paciente_endereco_uf                           estalecimento_nofantasia  \\\n",
       "0                   SP                         UBS ROQUE LINO DE CARVALHO   \n",
       "1                   SP    UBS DR WALDEMAR BARNSLEY PESSOA PARQUE RIBEIRAO   \n",
       "2                   SP                         UBS JOSE DE BARROS MAGALDI   \n",
       "3                   SP                 USF ANA PAULA FERRARI PIRASSUNUNGA   \n",
       "4                   SP  UNIDADE DE SAUDE DA FAMILIA SALVADOR RIBEIRO L...   \n",
       "\n",
       "  estabelecimento_municipio_nome estabelecimento_uf  \\\n",
       "0         VARGEM GRANDE PAULISTA                 SP   \n",
       "1                 RIBEIRAO PRETO                 SP   \n",
       "2                      SAO PAULO                 SP   \n",
       "3                   PIRASSUNUNGA                 SP   \n",
       "4                   PARANAPANEMA                 SP   \n",
       "\n",
       "  vacina_grupoatendimento_nome   vacina_categoria_nome vacina_fabricante_nome  \\\n",
       "0      Pessoas de 65 a 69 anos            Faixa Etária     ASTRAZENECA/OXFORD   \n",
       "1   Pessoas de 80 anos ou mais            Faixa Etária     ASTRAZENECA/OXFORD   \n",
       "2                       Outros  Trabalhadores de Saúde                SINOVAC   \n",
       "3      Pessoas de 70 a 74 anos            Faixa Etária                SINOVAC   \n",
       "4      Pessoas de 70 a 74 anos            Faixa Etária                SINOVAC   \n",
       "\n",
       "  vacina_dataaplicacao vacina_descricao_dose  \\\n",
       "0           2021-04-20               1ª Dose   \n",
       "1           2021-03-02               1ª Dose   \n",
       "2           2021-01-28               1ª Dose   \n",
       "3           2021-04-10               1ª Dose   \n",
       "4           2021-03-24               1ª Dose   \n",
       "\n",
       "                           vacina_nome  \n",
       "0         Vacina Covid-19 - Covishield  \n",
       "1         Vacina Covid-19 - Covishield  \n",
       "2  Covid-19-Coronavac-Sinovac/Butantan  \n",
       "3  Covid-19-Coronavac-Sinovac/Butantan  \n",
       "4  Covid-19-Coronavac-Sinovac/Butantan  "
      ]
     },
     "execution_count": 11,
     "metadata": {},
     "output_type": "execute_result"
    }
   ],
   "source": [
    "df.head()"
   ]
  },
  {
   "cell_type": "code",
   "execution_count": 6,
   "metadata": {
    "colab": {
     "base_uri": "https://localhost:8080/"
    },
    "id": "b4QUcRSwRNiO",
    "outputId": "a5ece525-607e-478e-fd06-45ff92f580b3"
   },
   "outputs": [
    {
     "name": "stdout",
     "output_type": "stream",
     "text": [
      "<class 'pandas.core.frame.DataFrame'>\n",
      "RangeIndex: 11567410 entries, 0 to 11567409\n",
      "Data columns (total 15 columns):\n",
      " #   Column                             Dtype  \n",
      "---  ------                             -----  \n",
      " 0   paciente_idade                     float64\n",
      " 1   paciente_enumsexobiologico         object \n",
      " 2   paciente_racacor_valor             object \n",
      " 3   paciente_endereco_coibgemunicipio  float64\n",
      " 4   paciente_endereco_nmmunicipio      object \n",
      " 5   paciente_endereco_uf               object \n",
      " 6   estalecimento_nofantasia           object \n",
      " 7   estabelecimento_municipio_nome     object \n",
      " 8   estabelecimento_uf                 object \n",
      " 9   vacina_grupoatendimento_nome       object \n",
      " 10  vacina_categoria_nome              object \n",
      " 11  vacina_fabricante_nome             object \n",
      " 12  vacina_dataaplicacao               object \n",
      " 13  vacina_descricao_dose              object \n",
      " 14  vacina_nome                        object \n",
      "dtypes: float64(2), object(13)\n",
      "memory usage: 1.3+ GB\n"
     ]
    }
   ],
   "source": [
    "df.info()"
   ]
  },
  {
   "cell_type": "markdown",
   "metadata": {},
   "source": [
    "### Qual o tamanho do DataFrame?"
   ]
  },
  {
   "cell_type": "code",
   "execution_count": 12,
   "metadata": {
    "scrolled": true
   },
   "outputs": [
    {
     "name": "stdout",
     "output_type": "stream",
     "text": [
      "Número de entradas/pacientes:\t 11567410\n",
      "Número de variáveis/atributos:\t 15\n"
     ]
    }
   ],
   "source": [
    "print('Número de entradas/pacientes:\\t {}'.format(df.shape[0]))\n",
    "print('Número de variáveis/atributos:\\t {}'.format(df.shape[1]))"
   ]
  },
  {
   "cell_type": "markdown",
   "metadata": {},
   "source": [
    "#### Cada linha da tabela representa um registro de um paciente. Temos 15 variáveis:\n",
    "\n",
    "*   **paciente_idade**: Float, representando a idade do paciente;\n",
    "*   **paciente_enumsexobiologico**: Objeto string, representando o sexo biológico do paciente (M=masculino, F=feminino, I=indefinido);\n",
    "*   **paciente_racacor_valor**: Objeto string, descrevendo a raça/cor do paciente; \n",
    "*   **paciente_endereco_coibgemunicipio**: Float, representando o código do município do paciente segundo o IBGE;\n",
    "*   **paciente_endereco_nmmunicipio**: Objeto string, descrevendo o nome do município do paciente segundo o IBGE;\n",
    "*   **paciente_endereco_uf**: Objeto string, descrevendo o nome do estado do paciente segundo o IBGE;\n",
    "*   **estalecimento_nofantasia**: Objeto string, descrevendo o nome do estabelecimento no qual o paciente foi vacinado;\n",
    "*   **estabelecimento_municipio_nome**: Objeto string, descrevendo o nome do município do estabelecimento no qual o paciente foi vacinado;\n",
    "*   **estabelecimento_uf**: Objeto string, descrevendo o nome do estado do estabelecimento no qual o paciente foi vacinado;\n",
    "*   **vacina_grupoatendimento_nome**: Objeto string, descrevendo o grupo de atendimento em que o paciente se enquadrou para a vacinação;\n",
    "*   **vacina_categoria_nome**: Objeto string, descrevendo a categoria em que o paciente se enquadrou para a vacinação;\n",
    "*   **vacina_fabricante_nome**: Objeto string, descrevendo o nome do fabricante da vacina que o paciente tomou;\n",
    "*   **vacina_dataaplicacao**: Objeto string, indicando a data em que o paciente foi vacinado;\n",
    "*   **vacina_descricao_dose**: Objeto string, indicando a dose correspondente que o paciente tomou;\n",
    "*   **vacina_nome**: Objeto string, descrevendo o nome da vacina que o paciente tomou;\n",
    "\n",
    "#### A feature *paciente_endereco_coibgemunicipio* e a *paciente_endereco_nmmunicipio* representam a mesma informação. Para confirmar isso, podemos checar a correlação delas."
   ]
  },
  {
   "cell_type": "code",
   "execution_count": 16,
   "metadata": {},
   "outputs": [
    {
     "data": {
      "text/html": [
       "<div>\n",
       "<style scoped>\n",
       "    .dataframe tbody tr th:only-of-type {\n",
       "        vertical-align: middle;\n",
       "    }\n",
       "\n",
       "    .dataframe tbody tr th {\n",
       "        vertical-align: top;\n",
       "    }\n",
       "\n",
       "    .dataframe thead th {\n",
       "        text-align: right;\n",
       "    }\n",
       "</style>\n",
       "<table border=\"1\" class=\"dataframe\">\n",
       "  <thead>\n",
       "    <tr style=\"text-align: right;\">\n",
       "      <th></th>\n",
       "      <th>paciente_endereco_coibgemunicipio</th>\n",
       "    </tr>\n",
       "  </thead>\n",
       "  <tbody>\n",
       "    <tr>\n",
       "      <th>paciente_endereco_coibgemunicipio</th>\n",
       "      <td>1.0</td>\n",
       "    </tr>\n",
       "  </tbody>\n",
       "</table>\n",
       "</div>"
      ],
      "text/plain": [
       "                                   paciente_endereco_coibgemunicipio\n",
       "paciente_endereco_coibgemunicipio                                1.0"
      ]
     },
     "execution_count": 16,
     "metadata": {},
     "output_type": "execute_result"
    }
   ],
   "source": [
    "df[['paciente_endereco_coibgemunicipio', 'paciente_endereco_nmmunicipio']].corr()"
   ]
  },
  {
   "cell_type": "markdown",
   "metadata": {},
   "source": [
    "#### Como a correlação é 1, comprovamos que de fato elas indicam a mesma informação, portanto vamos retirar a variável correspondente ao código do município. Logo, continuaremos com 14 variáveis."
   ]
  },
  {
   "cell_type": "code",
   "execution_count": 19,
   "metadata": {},
   "outputs": [],
   "source": [
    "df.drop('paciente_endereco_coibgemunicipio', axis=1, inplace=True)"
   ]
  },
  {
   "cell_type": "code",
   "execution_count": 20,
   "metadata": {},
   "outputs": [
    {
     "data": {
      "text/html": [
       "<div>\n",
       "<style scoped>\n",
       "    .dataframe tbody tr th:only-of-type {\n",
       "        vertical-align: middle;\n",
       "    }\n",
       "\n",
       "    .dataframe tbody tr th {\n",
       "        vertical-align: top;\n",
       "    }\n",
       "\n",
       "    .dataframe thead th {\n",
       "        text-align: right;\n",
       "    }\n",
       "</style>\n",
       "<table border=\"1\" class=\"dataframe\">\n",
       "  <thead>\n",
       "    <tr style=\"text-align: right;\">\n",
       "      <th></th>\n",
       "      <th>paciente_idade</th>\n",
       "      <th>paciente_enumsexobiologico</th>\n",
       "      <th>paciente_racacor_valor</th>\n",
       "      <th>paciente_endereco_nmmunicipio</th>\n",
       "      <th>paciente_endereco_uf</th>\n",
       "      <th>estalecimento_nofantasia</th>\n",
       "      <th>estabelecimento_municipio_nome</th>\n",
       "      <th>estabelecimento_uf</th>\n",
       "      <th>vacina_grupoatendimento_nome</th>\n",
       "      <th>vacina_categoria_nome</th>\n",
       "      <th>vacina_fabricante_nome</th>\n",
       "      <th>vacina_dataaplicacao</th>\n",
       "      <th>vacina_descricao_dose</th>\n",
       "      <th>vacina_nome</th>\n",
       "    </tr>\n",
       "  </thead>\n",
       "  <tbody>\n",
       "    <tr>\n",
       "      <th>0</th>\n",
       "      <td>67.0</td>\n",
       "      <td>F</td>\n",
       "      <td>BRANCA</td>\n",
       "      <td>VARGEM GRANDE PAULISTA</td>\n",
       "      <td>SP</td>\n",
       "      <td>UBS ROQUE LINO DE CARVALHO</td>\n",
       "      <td>VARGEM GRANDE PAULISTA</td>\n",
       "      <td>SP</td>\n",
       "      <td>Pessoas de 65 a 69 anos</td>\n",
       "      <td>Faixa Etária</td>\n",
       "      <td>ASTRAZENECA/OXFORD</td>\n",
       "      <td>2021-04-20</td>\n",
       "      <td>1ª Dose</td>\n",
       "      <td>Vacina Covid-19 - Covishield</td>\n",
       "    </tr>\n",
       "    <tr>\n",
       "      <th>1</th>\n",
       "      <td>82.0</td>\n",
       "      <td>M</td>\n",
       "      <td>BRANCA</td>\n",
       "      <td>RIBEIRAO PRETO</td>\n",
       "      <td>SP</td>\n",
       "      <td>UBS DR WALDEMAR BARNSLEY PESSOA PARQUE RIBEIRAO</td>\n",
       "      <td>RIBEIRAO PRETO</td>\n",
       "      <td>SP</td>\n",
       "      <td>Pessoas de 80 anos ou mais</td>\n",
       "      <td>Faixa Etária</td>\n",
       "      <td>ASTRAZENECA/OXFORD</td>\n",
       "      <td>2021-03-02</td>\n",
       "      <td>1ª Dose</td>\n",
       "      <td>Vacina Covid-19 - Covishield</td>\n",
       "    </tr>\n",
       "    <tr>\n",
       "      <th>2</th>\n",
       "      <td>35.0</td>\n",
       "      <td>F</td>\n",
       "      <td>SEM INFORMACAO</td>\n",
       "      <td>SAO PAULO</td>\n",
       "      <td>SP</td>\n",
       "      <td>UBS JOSE DE BARROS MAGALDI</td>\n",
       "      <td>SAO PAULO</td>\n",
       "      <td>SP</td>\n",
       "      <td>Outros</td>\n",
       "      <td>Trabalhadores de Saúde</td>\n",
       "      <td>SINOVAC</td>\n",
       "      <td>2021-01-28</td>\n",
       "      <td>1ª Dose</td>\n",
       "      <td>Covid-19-Coronavac-Sinovac/Butantan</td>\n",
       "    </tr>\n",
       "    <tr>\n",
       "      <th>3</th>\n",
       "      <td>72.0</td>\n",
       "      <td>M</td>\n",
       "      <td>BRANCA</td>\n",
       "      <td>PIRASSUNUNGA</td>\n",
       "      <td>SP</td>\n",
       "      <td>USF ANA PAULA FERRARI PIRASSUNUNGA</td>\n",
       "      <td>PIRASSUNUNGA</td>\n",
       "      <td>SP</td>\n",
       "      <td>Pessoas de 70 a 74 anos</td>\n",
       "      <td>Faixa Etária</td>\n",
       "      <td>SINOVAC</td>\n",
       "      <td>2021-04-10</td>\n",
       "      <td>1ª Dose</td>\n",
       "      <td>Covid-19-Coronavac-Sinovac/Butantan</td>\n",
       "    </tr>\n",
       "    <tr>\n",
       "      <th>4</th>\n",
       "      <td>71.0</td>\n",
       "      <td>M</td>\n",
       "      <td>BRANCA</td>\n",
       "      <td>PARANAPANEMA</td>\n",
       "      <td>SP</td>\n",
       "      <td>UNIDADE DE SAUDE DA FAMILIA SALVADOR RIBEIRO L...</td>\n",
       "      <td>PARANAPANEMA</td>\n",
       "      <td>SP</td>\n",
       "      <td>Pessoas de 70 a 74 anos</td>\n",
       "      <td>Faixa Etária</td>\n",
       "      <td>SINOVAC</td>\n",
       "      <td>2021-03-24</td>\n",
       "      <td>1ª Dose</td>\n",
       "      <td>Covid-19-Coronavac-Sinovac/Butantan</td>\n",
       "    </tr>\n",
       "  </tbody>\n",
       "</table>\n",
       "</div>"
      ],
      "text/plain": [
       "   paciente_idade paciente_enumsexobiologico paciente_racacor_valor  \\\n",
       "0            67.0                          F                 BRANCA   \n",
       "1            82.0                          M                 BRANCA   \n",
       "2            35.0                          F         SEM INFORMACAO   \n",
       "3            72.0                          M                 BRANCA   \n",
       "4            71.0                          M                 BRANCA   \n",
       "\n",
       "  paciente_endereco_nmmunicipio paciente_endereco_uf  \\\n",
       "0        VARGEM GRANDE PAULISTA                   SP   \n",
       "1                RIBEIRAO PRETO                   SP   \n",
       "2                     SAO PAULO                   SP   \n",
       "3                  PIRASSUNUNGA                   SP   \n",
       "4                  PARANAPANEMA                   SP   \n",
       "\n",
       "                            estalecimento_nofantasia  \\\n",
       "0                         UBS ROQUE LINO DE CARVALHO   \n",
       "1    UBS DR WALDEMAR BARNSLEY PESSOA PARQUE RIBEIRAO   \n",
       "2                         UBS JOSE DE BARROS MAGALDI   \n",
       "3                 USF ANA PAULA FERRARI PIRASSUNUNGA   \n",
       "4  UNIDADE DE SAUDE DA FAMILIA SALVADOR RIBEIRO L...   \n",
       "\n",
       "  estabelecimento_municipio_nome estabelecimento_uf  \\\n",
       "0         VARGEM GRANDE PAULISTA                 SP   \n",
       "1                 RIBEIRAO PRETO                 SP   \n",
       "2                      SAO PAULO                 SP   \n",
       "3                   PIRASSUNUNGA                 SP   \n",
       "4                   PARANAPANEMA                 SP   \n",
       "\n",
       "  vacina_grupoatendimento_nome   vacina_categoria_nome vacina_fabricante_nome  \\\n",
       "0      Pessoas de 65 a 69 anos            Faixa Etária     ASTRAZENECA/OXFORD   \n",
       "1   Pessoas de 80 anos ou mais            Faixa Etária     ASTRAZENECA/OXFORD   \n",
       "2                       Outros  Trabalhadores de Saúde                SINOVAC   \n",
       "3      Pessoas de 70 a 74 anos            Faixa Etária                SINOVAC   \n",
       "4      Pessoas de 70 a 74 anos            Faixa Etária                SINOVAC   \n",
       "\n",
       "  vacina_dataaplicacao vacina_descricao_dose  \\\n",
       "0           2021-04-20               1ª Dose   \n",
       "1           2021-03-02               1ª Dose   \n",
       "2           2021-01-28               1ª Dose   \n",
       "3           2021-04-10               1ª Dose   \n",
       "4           2021-03-24               1ª Dose   \n",
       "\n",
       "                           vacina_nome  \n",
       "0         Vacina Covid-19 - Covishield  \n",
       "1         Vacina Covid-19 - Covishield  \n",
       "2  Covid-19-Coronavac-Sinovac/Butantan  \n",
       "3  Covid-19-Coronavac-Sinovac/Butantan  \n",
       "4  Covid-19-Coronavac-Sinovac/Butantan  "
      ]
     },
     "execution_count": 20,
     "metadata": {},
     "output_type": "execute_result"
    }
   ],
   "source": [
    "df.head()"
   ]
  },
  {
   "cell_type": "markdown",
   "metadata": {},
   "source": [
    "### Quais os tipos das variáveis?\n",
    "\n",
    "Sobre as variáveis numéricas, *paciente_idade* é uma variável racional e *vacina_dataaplicacao* é intervalar, todas as outras são variáveis categóricas.\n",
    "Para garantir a integridade do tipo, vamos converter a variável *vacina_dataaplicacao* de string para datetime. Além disso, para possibilitar análises mais profundas, vamos criar uma variável temporária chamada ***vacina_dias_desde_aplicacao***, que representa a quantidade de dias desde a aplicação da vacina até ***14/05/2021***, data em que os dados foram coletados."
   ]
  },
  {
   "cell_type": "code",
   "execution_count": 53,
   "metadata": {},
   "outputs": [],
   "source": [
    "df.loc[:,'vacina_dataaplicacao'] = df.loc[:,'vacina_dataaplicacao'].astype('datetime64[ns]')"
   ]
  },
  {
   "cell_type": "code",
   "execution_count": 211,
   "metadata": {},
   "outputs": [],
   "source": [
    "df['vacina_dias_desde_aplicacao'] = (pd.to_datetime('2021-05-14') - df['vacina_dataaplicacao']).dt.days"
   ]
  },
  {
   "cell_type": "code",
   "execution_count": 212,
   "metadata": {},
   "outputs": [
    {
     "name": "stdout",
     "output_type": "stream",
     "text": [
      "<class 'pandas.core.frame.DataFrame'>\n",
      "RangeIndex: 11567410 entries, 0 to 11567409\n",
      "Data columns (total 15 columns):\n",
      " #   Column                          Dtype         \n",
      "---  ------                          -----         \n",
      " 0   paciente_idade                  float64       \n",
      " 1   paciente_enumsexobiologico      object        \n",
      " 2   paciente_racacor_valor          object        \n",
      " 3   paciente_endereco_nmmunicipio   object        \n",
      " 4   paciente_endereco_uf            object        \n",
      " 5   estalecimento_nofantasia        object        \n",
      " 6   estabelecimento_municipio_nome  object        \n",
      " 7   estabelecimento_uf              object        \n",
      " 8   vacina_grupoatendimento_nome    object        \n",
      " 9   vacina_categoria_nome           object        \n",
      " 10  vacina_fabricante_nome          object        \n",
      " 11  vacina_dataaplicacao            datetime64[ns]\n",
      " 12  vacina_descricao_dose           object        \n",
      " 13  vacina_nome                     object        \n",
      " 14  vacina_dias_desde_aplicacao     int64         \n",
      "dtypes: datetime64[ns](1), float64(1), int64(1), object(12)\n",
      "memory usage: 1.3+ GB\n"
     ]
    }
   ],
   "source": [
    "df.info()"
   ]
  },
  {
   "cell_type": "markdown",
   "metadata": {},
   "source": [
    "### Existem valores ausentes?"
   ]
  },
  {
   "cell_type": "code",
   "execution_count": 213,
   "metadata": {},
   "outputs": [
    {
     "data": {
      "text/plain": [
       "vacina_grupoatendimento_nome      74892\n",
       "vacina_categoria_nome             74892\n",
       "paciente_endereco_uf              47428\n",
       "paciente_endereco_nmmunicipio     47373\n",
       "paciente_idade                        1\n",
       "paciente_enumsexobiologico            1\n",
       "paciente_racacor_valor                1\n",
       "estalecimento_nofantasia              0\n",
       "estabelecimento_municipio_nome        0\n",
       "estabelecimento_uf                    0\n",
       "vacina_fabricante_nome                0\n",
       "vacina_dataaplicacao                  0\n",
       "vacina_descricao_dose                 0\n",
       "vacina_nome                           0\n",
       "vacina_dias_desde_aplicacao           0\n",
       "dtype: int64"
      ]
     },
     "execution_count": 213,
     "metadata": {},
     "output_type": "execute_result"
    }
   ],
   "source": [
    "# Confirmando quantidade de valores ausentes\n",
    "df.isnull().sum().sort_values(ascending=False)"
   ]
  },
  {
   "cell_type": "markdown",
   "metadata": {},
   "source": [
    "Os valores ausentes se concentram principalmente no grupo de atendimento e categoria em que o paciente se enquadra para tomar a vacina, seguido do município e estado do paciente. "
   ]
  },
  {
   "cell_type": "markdown",
   "metadata": {},
   "source": [
    "# Análise exploratória"
   ]
  },
  {
   "cell_type": "markdown",
   "metadata": {},
   "source": [
    "A análise explatória será dividida em três: uma só para as variáveis numéricas, outra para variáveis categóricas e uma análise entre as duas categorias. A razão disso é tornar a análise mais adequada para cada tipo de variável. Por exemplo, um histograma não faz sentido para as variáveis categóricas, mas um gráfico de waffle sim. Para a variável correspondente à idade, um gráfico de barras não passaria uma informação clara, um boxplot nesse caso seria melhor."
   ]
  },
  {
   "cell_type": "code",
   "execution_count": 214,
   "metadata": {},
   "outputs": [],
   "source": [
    "# dataset de variáveis numéricas\n",
    "dados_numer = df[['paciente_idade', 'vacina_dataaplicacao', 'vacina_dias_desde_aplicacao']]\n",
    "\n",
    "# dataset de variáveis categóricas\n",
    "dados_cat = df[['paciente_enumsexobiologico', 'paciente_racacor_valor', 'paciente_endereco_nmmunicipio',\n",
    "                   'paciente_endereco_uf', 'estalecimento_nofantasia', 'estabelecimento_municipio_nome', \n",
    "                   'estabelecimento_uf', 'vacina_grupoatendimento_nome', 'vacina_categoria_nome',\n",
    "                   'vacina_fabricante_nome', 'vacina_descricao_dose', 'vacina_nome']]"
   ]
  },
  {
   "cell_type": "markdown",
   "metadata": {},
   "source": [
    "## Variáveis numéricas"
   ]
  },
  {
   "cell_type": "markdown",
   "metadata": {},
   "source": [
    "O primeiro passo ao analisar um DataFrame numérico, é visualizar as suas principais estatísticas: média, mediana, primeiro e terceiro quartil, valor mínimo e máximo e o desvio padrão."
   ]
  },
  {
   "cell_type": "code",
   "execution_count": 215,
   "metadata": {},
   "outputs": [
    {
     "data": {
      "text/html": [
       "<div>\n",
       "<style scoped>\n",
       "    .dataframe tbody tr th:only-of-type {\n",
       "        vertical-align: middle;\n",
       "    }\n",
       "\n",
       "    .dataframe tbody tr th {\n",
       "        vertical-align: top;\n",
       "    }\n",
       "\n",
       "    .dataframe thead th {\n",
       "        text-align: right;\n",
       "    }\n",
       "</style>\n",
       "<table border=\"1\" class=\"dataframe\">\n",
       "  <thead>\n",
       "    <tr style=\"text-align: right;\">\n",
       "      <th></th>\n",
       "      <th>paciente_idade</th>\n",
       "      <th>vacina_dataaplicacao</th>\n",
       "      <th>vacina_dias_desde_aplicacao</th>\n",
       "    </tr>\n",
       "  </thead>\n",
       "  <tbody>\n",
       "    <tr>\n",
       "      <th>count</th>\n",
       "      <td>1.156741e+07</td>\n",
       "      <td>11567410</td>\n",
       "      <td>1.156741e+07</td>\n",
       "    </tr>\n",
       "    <tr>\n",
       "      <th>mean</th>\n",
       "      <td>6.394558e+01</td>\n",
       "      <td>2021-03-25 05:56:23.081467904</td>\n",
       "      <td>4.975251e+01</td>\n",
       "    </tr>\n",
       "    <tr>\n",
       "      <th>min</th>\n",
       "      <td>0.000000e+00</td>\n",
       "      <td>2021-01-10 00:00:00</td>\n",
       "      <td>0.000000e+00</td>\n",
       "    </tr>\n",
       "    <tr>\n",
       "      <th>25%</th>\n",
       "      <td>5.600000e+01</td>\n",
       "      <td>2021-03-02 00:00:00</td>\n",
       "      <td>2.500000e+01</td>\n",
       "    </tr>\n",
       "    <tr>\n",
       "      <th>50%</th>\n",
       "      <td>6.800000e+01</td>\n",
       "      <td>2021-03-27 00:00:00</td>\n",
       "      <td>4.800000e+01</td>\n",
       "    </tr>\n",
       "    <tr>\n",
       "      <th>75%</th>\n",
       "      <td>7.500000e+01</td>\n",
       "      <td>2021-04-19 00:00:00</td>\n",
       "      <td>7.300000e+01</td>\n",
       "    </tr>\n",
       "    <tr>\n",
       "      <th>max</th>\n",
       "      <td>2.210000e+02</td>\n",
       "      <td>2021-05-14 00:00:00</td>\n",
       "      <td>1.240000e+02</td>\n",
       "    </tr>\n",
       "    <tr>\n",
       "      <th>std</th>\n",
       "      <td>1.680541e+01</td>\n",
       "      <td>NaN</td>\n",
       "      <td>3.100859e+01</td>\n",
       "    </tr>\n",
       "  </tbody>\n",
       "</table>\n",
       "</div>"
      ],
      "text/plain": [
       "       paciente_idade           vacina_dataaplicacao  \\\n",
       "count    1.156741e+07                       11567410   \n",
       "mean     6.394558e+01  2021-03-25 05:56:23.081467904   \n",
       "min      0.000000e+00            2021-01-10 00:00:00   \n",
       "25%      5.600000e+01            2021-03-02 00:00:00   \n",
       "50%      6.800000e+01            2021-03-27 00:00:00   \n",
       "75%      7.500000e+01            2021-04-19 00:00:00   \n",
       "max      2.210000e+02            2021-05-14 00:00:00   \n",
       "std      1.680541e+01                            NaN   \n",
       "\n",
       "       vacina_dias_desde_aplicacao  \n",
       "count                 1.156741e+07  \n",
       "mean                  4.975251e+01  \n",
       "min                   0.000000e+00  \n",
       "25%                   2.500000e+01  \n",
       "50%                   4.800000e+01  \n",
       "75%                   7.300000e+01  \n",
       "max                   1.240000e+02  \n",
       "std                   3.100859e+01  "
      ]
     },
     "execution_count": 215,
     "metadata": {},
     "output_type": "execute_result"
    }
   ],
   "source": [
    "dados_numer.describe(datetime_is_numeric=True)"
   ]
  },
  {
   "cell_type": "markdown",
   "metadata": {},
   "source": [
    "*   **paciente_idade:** Nem todos os valores representam idades plausíveis de pessoas, o máximo chega a 221 anos, e o mínimo é 0, talvez possam ser bebês, ou possivelmente um erro, dado que pelo conhecimento do contexto, sabemos que bebês não estão sendo vacinado. É válido uma investigação mais aprofundada sobre isso. A média é 63 anos, o primeiro quartil é 56 anos, o que faz sentido dado que grande parte dos grupos prioritários são compostos por idosos, a mediana é 68 e o terceiro quartil é 75.\n",
    "\n",
    "*  **vacina_dataaplicacao:** Todos os valores são plausíveis com a realidade. Os dados começam em 10 de janeiro de 2021 e terminam em 14 de maio de 2021. 75% dos dados são a partir de março.\n",
    "\n",
    "*  **vacina_dias_desde_aplicacao:** Podemos perceber que a média e a médiana são próximas, sendo 49 e 48 dias respectivamente. Também vemos que 25% dos pacientes foram vacinados nos últimos 25 dias, enquanto outros 25% foram vacinados a mais de 73 dias atrás. O primeiro paciente foi vacinado a 124 dias e o último a 0 dias.\n",
    "\n",
    "Uma outra forma de entender a distribuição dos valores das variáveis é pelo histograma. Com o histograma é possível observar a frequência que determinado valor aparece e se há ou não outliers."
   ]
  },
  {
   "cell_type": "markdown",
   "metadata": {},
   "source": [
    "### Plotando histogramas"
   ]
  },
  {
   "cell_type": "code",
   "execution_count": 220,
   "metadata": {},
   "outputs": [
    {
     "data": {
      "image/png": "[encoded data removed]",
      "text/plain": [
       "<Figure size 720x288 with 2 Axes>"
      ]
     },
     "metadata": {
      "needs_background": "light"
     },
     "output_type": "display_data"
    }
   ],
   "source": [
    "fig, ax = plt.subplots(nrows=1, ncols=2, figsize=(10,4))\n",
    "\n",
    "# histograma paciente_idade\n",
    "dados_numer['paciente_idade'].plot(kind=\"hist\", ax=ax[0], color='r', bins=50)\n",
    "ax[0].set_title('Histograma da Idade', fontsize=14)\n",
    "ax[0].set_ylabel('Quantidade de ocorrências')\n",
    "ax[0].set_xlabel('Idade em anos', fontsize = 12)\n",
    "\n",
    "# # histograma vacina_dias_desde_aplicacao\n",
    "dados_numer['vacina_dias_desde_aplicacao'].plot(kind=\"hist\", ax=ax[1], color='r', bins=50)\n",
    "ax[1].set_title('Histograma da quantidade de dias desde a aplicação da vacina', fontsize=14)\n",
    "ax[1].set_ylabel('Quantidade de ocorrências')\n",
    "ax[1].set_xlabel('Quantidade de dias desde a aplicação da vacina', fontsize = 12)\n",
    "\n",
    "fig.tight_layout();"
   ]
  },
  {
   "cell_type": "markdown",
   "metadata": {},
   "source": [
    "Analisando os histogramas das variáveis numéricas do DataFrame, podemos observar algumas características que já observamos na análise estatística descritiva, além de outras que só é possível observar visualmente. \n",
    "\n",
    "*  **paciente_idade:** Podemos perceber que de fato a maioria das pessoas estão entre 50 e 100 anos, como visto na descrição, 25% das pessoas tem menos de 56 anos, e no histograma é possível perceber raríssimos casos maiores que 100 anos, como esperado, possivelmente são outliers.\n",
    "\n",
    "*  **vacina_dias_desde_aplicacao:** Podemos perceber que o início da vacinação foi mais lento, indicado pela quantidade de dias mais alta, e um aumento a partir do início de março (74 dias), com alguns picos, podendo as baixas representarem fins de semana.\n",
    "\n",
    "Outra análise gráfica importante de ser feita é por meio do boxplot. Com ele, é possível visualizar o intervalo entre quartis e a presença, ou não, de outliers. Isso porque o boxplot segue a seguinte estrutura: todo ponto em um boxplot representa que há um valor na variável que pode ser considerado, por definição, como um outlier. "
   ]
  },
  {
   "cell_type": "code",
   "execution_count": 227,
   "metadata": {},
   "outputs": [
    {
     "data": {
      "image/png": "[encoded data removed]",
      "text/plain": [
       "<Figure size 1440x576 with 2 Axes>"
      ]
     },
     "metadata": {
      "needs_background": "light"
     },
     "output_type": "display_data"
    }
   ],
   "source": [
    "fig, ax = plt.subplots(nrows=1, ncols=2, figsize=(20,8))\n",
    "\n",
    "# boxplot paciente_idade\n",
    "dados_numer.boxplot(['paciente_idade'], ax=ax[0], vert=False, widths=0.6, grid=False)\n",
    "ax[0].set_yticks([])\n",
    "ax[0].set_xlabel('Anos', fontsize = 12)\n",
    "ax[0].set_title('Boxplot da Idade', fontsize=14)\n",
    "\n",
    "# boxplot paciente_idade\n",
    "dados_numer.boxplot(['vacina_dias_desde_aplicacao'], ax=ax[1], vert=False, widths=0.6, grid=False)\n",
    "ax[1].set_yticks([])\n",
    "ax[1].set_xlabel('Dias', fontsize = 12)\n",
    "ax[1].set_title('Boxplot de dias desde a aplicação da vacina', fontsize=14)\n",
    "\n",
    "fig.tight_layout();"
   ]
  },
  {
   "cell_type": "code",
   "execution_count": 234,
   "metadata": {},
   "outputs": [
    {
     "data": {
      "text/html": [
       "<div>\n",
       "<style scoped>\n",
       "    .dataframe tbody tr th:only-of-type {\n",
       "        vertical-align: middle;\n",
       "    }\n",
       "\n",
       "    .dataframe tbody tr th {\n",
       "        vertical-align: top;\n",
       "    }\n",
       "\n",
       "    .dataframe thead th {\n",
       "        text-align: right;\n",
       "    }\n",
       "</style>\n",
       "<table border=\"1\" class=\"dataframe\">\n",
       "  <thead>\n",
       "    <tr style=\"text-align: right;\">\n",
       "      <th></th>\n",
       "      <th>Variável</th>\n",
       "      <th>Limite inferior</th>\n",
       "      <th>Q1</th>\n",
       "      <th>Q2 - Mediana</th>\n",
       "      <th>Q3</th>\n",
       "      <th>Limite superior</th>\n",
       "    </tr>\n",
       "  </thead>\n",
       "  <tbody>\n",
       "    <tr>\n",
       "      <th>0</th>\n",
       "      <td>paciente_idade</td>\n",
       "      <td>28.0</td>\n",
       "      <td>56.0</td>\n",
       "      <td>68.0</td>\n",
       "      <td>75.0</td>\n",
       "      <td>103.0</td>\n",
       "    </tr>\n",
       "    <tr>\n",
       "      <th>1</th>\n",
       "      <td>vacina_dias_desde_aplicacao</td>\n",
       "      <td>0.0</td>\n",
       "      <td>25.0</td>\n",
       "      <td>48.0</td>\n",
       "      <td>73.0</td>\n",
       "      <td>124.0</td>\n",
       "    </tr>\n",
       "  </tbody>\n",
       "</table>\n",
       "</div>"
      ],
      "text/plain": [
       "                      Variável  Limite inferior    Q1  Q2 - Mediana    Q3  \\\n",
       "0               paciente_idade             28.0  56.0          68.0  75.0   \n",
       "1  vacina_dias_desde_aplicacao              0.0  25.0          48.0  73.0   \n",
       "\n",
       "   Limite superior  \n",
       "0            103.0  \n",
       "1            124.0  "
      ]
     },
     "execution_count": 234,
     "metadata": {},
     "output_type": "execute_result"
    },
    {
     "data": {
      "image/png": "[encoded data removed]",
      "text/plain": [
       "<Figure size 432x288 with 1 Axes>"
      ]
     },
     "metadata": {
      "needs_background": "light"
     },
     "output_type": "display_data"
    }
   ],
   "source": [
    "# Exibindo valores dos limites inferiores e superiores de cada variável numérica\n",
    "def get_box_plot_data(labels, bp):\n",
    "    rows_list = []\n",
    "\n",
    "    for i in range(len(labels)):\n",
    "        dict1 = {}\n",
    "        dict1['Variável'] = labels[i]\n",
    "        dict1['Limite inferior'] = bp['whiskers'][i*2].get_ydata()[1]\n",
    "        dict1['Q1'] = bp['boxes'][i].get_ydata()[1]\n",
    "        dict1['Q2 - Mediana'] = bp['medians'][i].get_ydata()[1]\n",
    "        dict1['Q3'] = bp['boxes'][i].get_ydata()[2]\n",
    "        dict1['Limite superior'] = bp['whiskers'][(i*2)+1].get_ydata()[1]\n",
    "        rows_list.append(dict1)\n",
    "\n",
    "    return pd.DataFrame(rows_list)\n",
    "    \n",
    "bp = dados_numer.boxplot(['paciente_idade', 'vacina_dias_desde_aplicacao'], return_type='dict', widths=0)\n",
    "get_box_plot_data(labels=['paciente_idade', 'vacina_dias_desde_aplicacao'], bp=bp)"
   ]
  },
  {
   "cell_type": "markdown",
   "metadata": {},
   "source": [
    "**paciente_idade:** Na análise do histograma, sugerimos a presença de outliers e, de acordo com o boxplot, há sim outliers tanto à direita, com pacientes com idade maior que 103 anos, quanto à esquerda, com pacientes com idades menores que 28 anos. Talvez alguns desses outliers superiores sejam verdadeiros, porém, segundo registros, a pessoa mais velha do mundo, chegou até 122 anos de idade. E sobre os outliers inferiores, é possível que alguns deles também sejam verdadeiros, pois profissionais da saúde foram contemplados em um dos grupos prioritários, e existe um número razoável de pessoas, entre 18 e 28, que podem se encaixar nessa categoria.\n",
    "\n",
    "**vacina_dias_desde_aplicacao:** Podemos confirmar que não há outliers e os dados estão mais inclinados à esquerda (recente)."
   ]
  },
  {
   "cell_type": "code",
   "execution_count": 236,
   "metadata": {
    "scrolled": true
   },
   "outputs": [
    {
     "data": {
      "text/plain": [
       "Text(0.5, 0, 'Dias')"
      ]
     },
     "execution_count": 236,
     "metadata": {},
     "output_type": "execute_result"
    },
    {
     "data": {
      "image/png": "[encoded data removed]",
      "text/plain": [
       "<Figure size 1296x720 with 1 Axes>"
      ]
     },
     "metadata": {
      "needs_background": "light"
     },
     "output_type": "display_data"
    }
   ],
   "source": [
    "fig = plt.figure(figsize=(18,10))\n",
    "fig.subplots_adjust(hspace=0.3, wspace=0.3)\n",
    "\n",
    "# vacina_dias_desde_aplicacao x paciente_idade\n",
    "ax1 = plt.subplot(221)\n",
    "sns.regplot(y='vacina_dias_desde_aplicacao', x='paciente_idade', scatter_kws={'s': 60.0, 'color': 'firebrick'},\n",
    "            line_kws={'color': 'gray'}, data=dados_numer, ax=ax1)\n",
    "ax1.set_title(\"Dias desde a aplicação da vacina x Idade\", fontsize = 16)\n",
    "ax1.set_ylabel('Anos')\n",
    "ax1.set_xlabel('Dias')"
   ]
  },
  {
   "cell_type": "markdown",
   "metadata": {},
   "source": [
    "No gráfico de dispersão, temos também uma reta de regressão. Se essa reta é ascendente, indica que as duas variáveis análisadas possuem relação positiva entre si, enquanto se a reta é descendente, a relação entre as variáveis é negativa. Logo, podemos observar que:\n",
    "\n",
    "[[[ PENSAR DIREITO, TALVEZ APAGAR ESSE ULTIMO PLOT ]]]"
   ]
  },
  {
   "cell_type": "markdown",
   "metadata": {},
   "source": [
    "## Variáveis categóricas"
   ]
  },
  {
   "cell_type": "code",
   "execution_count": null,
   "metadata": {},
   "outputs": [],
   "source": [
    "#ToDo"
   ]
  },
  {
   "cell_type": "code",
   "execution_count": null,
   "metadata": {},
   "outputs": [],
   "source": [
    "# # extrair value counts da variavel\n",
    "# sex = dados_cat['paciente_enumsexobiologico'].value_counts().to_dict()\n",
    "# print(sex)\n",
    "# # plotar gráfico de waffle\n",
    "# fig = plt.figure(\n",
    "#                 FigureClass=Waffle,\n",
    "#                 rows=5,\n",
    "#                 columns=15,\n",
    "#                 colors=(\"#7D0303\",\"#03107D\"),\n",
    "#                 title={'label': 'Proporção homem x mulher',  'fontsize': 16},\n",
    "#                 values=sex, icons=('female','male'), icon_size=30, labels=('Mulher','Homem'),\n",
    "#                 legend={'loc': 'upper left', 'bbox_to_anchor': (1,1), 'fontsize': 12},\n",
    "#                 icon_legend=True,\n",
    "#                 figsize=(10,6))\n",
    "# fig.set_tight_layout(False)\n",
    "# plt.show();"
   ]
  },
  {
   "cell_type": "markdown",
   "metadata": {},
   "source": [
    "## Tratando dados faltantes e outliers"
   ]
  },
  {
   "cell_type": "code",
   "execution_count": null,
   "metadata": {},
   "outputs": [],
   "source": [
    "#ToDo"
   ]
  },
  {
   "cell_type": "markdown",
   "metadata": {},
   "source": [
    "## Análise conjunta "
   ]
  },
  {
   "cell_type": "markdown",
   "metadata": {},
   "source": [
    "### Análise de correlação"
   ]
  },
  {
   "cell_type": "code",
   "execution_count": null,
   "metadata": {},
   "outputs": [],
   "source": [
    "#ToDo"
   ]
  },
  {
   "cell_type": "markdown",
   "metadata": {},
   "source": [
    "# AINDA NÃO MEXI:"
   ]
  },
  {
   "cell_type": "markdown",
   "metadata": {
    "id": "Al53E9nSWb5O"
   },
   "source": [
    "## Sobre os vacinados"
   ]
  },
  {
   "cell_type": "code",
   "execution_count": 19,
   "metadata": {
    "colab": {
     "base_uri": "https://localhost:8080/",
     "height": 297
    },
    "id": "fro2I3FdLaTJ",
    "outputId": "0418a3ec-0e40-4be5-8380-bf63abfaae13"
   },
   "outputs": [
    {
     "data": {
      "text/plain": [
       "<AxesSubplot:title={'center':'Sexo biologico pacientes vacinados'}>"
      ]
     },
     "execution_count": 19,
     "metadata": {},
     "output_type": "execute_result"
    },
    {
     "data": {
      "image/png": "[encoded data removed]",
      "text/plain": [
       "<Figure size 432x288 with 1 Axes>"
      ]
     },
     "metadata": {
      "needs_background": "light"
     },
     "output_type": "display_data"
    }
   ],
   "source": [
    "df.paciente_enumsexobiologico.value_counts().sort_values().plot(kind='bar', title='Sexo biologico pacientes vacinados')"
   ]
  },
  {
   "cell_type": "code",
   "execution_count": 31,
   "metadata": {
    "colab": {
     "base_uri": "https://localhost:8080/",
     "height": 380
    },
    "id": "UfDlSzA7LxcE",
    "outputId": "f09672af-5221-49e7-f5dd-36fde82fc322"
   },
   "outputs": [
    {
     "data": {
      "text/plain": [
       "<matplotlib.axes._subplots.AxesSubplot at 0x7f8f6a532c50>"
      ]
     },
     "execution_count": 31,
     "metadata": {
      "tags": []
     },
     "output_type": "execute_result"
    },
    {
     "data": {
      "image/png": "[encoded data removed]",
      "text/plain": [
       "<Figure size 432x288 with 1 Axes>"
      ]
     },
     "metadata": {
      "needs_background": "light",
      "tags": []
     },
     "output_type": "display_data"
    }
   ],
   "source": [
    "df.paciente_racacor_valor.value_counts().sort_values().plot(kind='bar', title='Raca/cor pacientes vacinados')"
   ]
  },
  {
   "cell_type": "code",
   "execution_count": 33,
   "metadata": {
    "colab": {
     "base_uri": "https://localhost:8080/",
     "height": 535
    },
    "id": "zbfb3PJYL3sm",
    "outputId": "caf5406d-34bf-4731-f513-c0a973e9c14f"
   },
   "outputs": [
    {
     "data": {
      "text/plain": [
       "<matplotlib.axes._subplots.AxesSubplot at 0x7f8f6a442610>"
      ]
     },
     "execution_count": 33,
     "metadata": {
      "tags": []
     },
     "output_type": "execute_result"
    },
    {
     "data": {
      "image/png": "[encoded data removed]",
      "text/plain": [
       "<Figure size 432x288 with 1 Axes>"
      ]
     },
     "metadata": {
      "needs_background": "light",
      "tags": []
     },
     "output_type": "display_data"
    }
   ],
   "source": [
    "df.vacina_categoria_nome.value_counts().sort_values().plot(kind='bar', title='Categoria pacientes vacinados')"
   ]
  },
  {
   "cell_type": "markdown",
   "metadata": {
    "id": "UEmG1KZgYDgz"
   },
   "source": [
    "## Sobre as vacinas"
   ]
  },
  {
   "cell_type": "code",
   "execution_count": null,
   "metadata": {
    "id": "rLhtYiMwXY5d"
   },
   "outputs": [],
   "source": [
    "df.replace(['SINOVAC LIFE SCIENCE CO LTD','PFIZER'], ['SINOVAC','BIONTECH/FOSUN PHARMA/PFIZER'], inplace = True)\n",
    "df['vacina_fabricante_nome'] = df['vacina_fabricante_nome'].str.upper()\n",
    "df['vacina_fabricante_nome'].value_counts()"
   ]
  },
  {
   "cell_type": "code",
   "execution_count": null,
   "metadata": {
    "colab": {
     "base_uri": "https://localhost:8080/"
    },
    "id": "YrISIsu8dd1n",
    "outputId": "3e41d10a-5fc3-49d0-ad13-7b963b8758e4"
   },
   "outputs": [
    {
     "data": {
      "text/plain": [
       "Covid-19-Coronavac-Sinovac/Butantan                          8249722\n",
       "Vacina Covid-19 - Covishield                                 3236864\n",
       "Vacina covid-19 - BNT162b2 - BioNTech/Fosun Pharma/Pfizer      80807\n",
       "Vacina covid-19 - Ad26.COV2.S - Janssen-Cilag                     17\n",
       "Name: vacina_nome, dtype: int64"
      ]
     },
     "execution_count": 6,
     "metadata": {
      "tags": []
     },
     "output_type": "execute_result"
    }
   ],
   "source": [
    "df['vacina_nome'].value_counts()"
   ]
  },
  {
   "cell_type": "code",
   "execution_count": null,
   "metadata": {
    "id": "Nymb_7bJyZNn"
   },
   "outputs": [],
   "source": [
    "df['vacina_descricao_dose'].value_counts()"
   ]
  },
  {
   "cell_type": "code",
   "execution_count": null,
   "metadata": {
    "id": "TfkuC8k2yfLQ"
   },
   "outputs": [],
   "source": [
    "len(df[df['estabelecimento_municipio_nome']=='SAO CARLOS'])"
   ]
  }
 ],
 "metadata": {
  "colab": {
   "collapsed_sections": [],
   "name": "Projeto.ipynb",
   "provenance": []
  },
  "kernelspec": {
   "display_name": "Python 3",
   "language": "python",
   "name": "python3"
  },
  "language_info": {
   "codemirror_mode": {
    "name": "ipython",
    "version": 3
   },
   "file_extension": ".py",
   "mimetype": "text/x-python",
   "name": "python",
   "nbconvert_exporter": "python",
   "pygments_lexer": "ipython3",
   "version": "3.9.0"
  }
 },
 "nbformat": 4,
 "nbformat_minor": 1
}
